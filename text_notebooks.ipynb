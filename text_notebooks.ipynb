{
 "cells": [
  {
   "cell_type": "markdown",
   "metadata": {},
   "source": [
    "Data Preprocessing (src/data_processing.py)"
   ]
  },
  {
   "cell_type": "code",
   "execution_count": 4,
   "metadata": {},
   "outputs": [
    {
     "name": "stdout",
     "output_type": "stream",
     "text": [
      "✅ Data processing complete!\n"
     ]
    }
   ],
   "source": [
    "import pandas as pd\n",
    "import numpy as np\n",
    "from sklearn.model_selection import train_test_split\n",
    "import os\n",
    "\n",
    "# โหลดข้อมูล\n",
    "df = pd.read_csv(\"data/raw/house_prices.csv\")\n",
    "\n",
    "# จัดการข้อมูลที่หายไป\n",
    "# เติมค่า NaN ในคอลัมน์ที่มีชนิดข้อมูลเป็นตัวเลขด้วยค่ามัธยฐาน\n",
    "numeric_columns = df.select_dtypes(include=['number']).columns  # เลือกคอลัมน์ที่เป็นตัวเลข\n",
    "\n",
    "# เติมค่า NaN ด้วยค่า median\n",
    "df[numeric_columns] = df[numeric_columns].fillna(df[numeric_columns].median())\n",
    "\n",
    "# แปลงข้อมูลให้เป็นตัวเลข\n",
    "df = pd.get_dummies(df, drop_first=True)\n",
    "\n",
    "# แยก Features & Target\n",
    "X = df.drop(columns=[\"id\",\"price\"])\n",
    "y = df[\"price\"]\n",
    "\n",
    "# แบ่งข้อมูล train/test\n",
    "X_train, X_test, y_train, y_test = train_test_split(X, y, test_size=0.2, random_state=42)\n",
    "\n",
    "# บันทึกข้อมูล\n",
    "os.makedirs(\"data/processed\", exist_ok=True)\n",
    "X_train.to_csv(\"data/processed/X_train.csv\", index=False)\n",
    "X_test.to_csv(\"data/processed/X_test.csv\", index=False)\n",
    "y_train.to_csv(\"data/processed/y_train.csv\", index=False)\n",
    "y_test.to_csv(\"data/processed/y_test.csv\", index=False)\n",
    "\n",
    "print(\"✅ Data processing complete!\")\n"
   ]
  },
  {
   "cell_type": "markdown",
   "metadata": {},
   "source": [
    "train_model (src/train_model.py)"
   ]
  },
  {
   "cell_type": "code",
   "execution_count": 1,
   "metadata": {},
   "outputs": [
    {
     "name": "stdout",
     "output_type": "stream",
     "text": [
      "✅ Model training complete!\n"
     ]
    }
   ],
   "source": [
    "import pandas as pd\n",
    "import joblib\n",
    "import yaml\n",
    "from sklearn.ensemble import RandomForestRegressor\n",
    "from sklearn.model_selection import RandomizedSearchCV\n",
    "\n",
    "params = yaml.safe_load(open(\"params.yaml\"))[\"train\"]\n",
    "\n",
    "X_train = pd.read_csv(\"data/processed/X_train.csv\")\n",
    "y_train = pd.read_csv(\"data/processed/y_train.csv\")\n",
    "\n",
    "model = RandomForestRegressor(n_estimators=params[\"n_estimators\"], max_depth=params[\"max_depth\"], random_state=42)\n",
    "\n",
    "model.fit(X_train, y_train.values.ravel())\n",
    "\n",
    "joblib.dump(model, \"models/house_price_model.pkl\")\n",
    "\n",
    "print(\"✅ Model training complete!\")\n"
   ]
  },
  {
   "cell_type": "markdown",
   "metadata": {},
   "source": [
    "evaluate model (src/evaluate_model.py)"
   ]
  },
  {
   "cell_type": "code",
   "execution_count": 2,
   "metadata": {},
   "outputs": [
    {
     "name": "stdout",
     "output_type": "stream",
     "text": [
      "📊 Model Evaluation:\n",
      " - MAE: 251983.3896785563\n",
      " - MSE: 84491458718.53607\n"
     ]
    }
   ],
   "source": [
    "import pandas as pd\n",
    "import joblib\n",
    "from sklearn.metrics import mean_absolute_error, mean_squared_error\n",
    "\n",
    "X_test = pd.read_csv(\"data/processed/X_test.csv\")\n",
    "y_test = pd.read_csv(\"data/processed/y_test.csv\")\n",
    "\n",
    "model = joblib.load(\"models/house_price_model.pkl\")\n",
    "\n",
    "y_pred = model.predict(X_test)\n",
    "\n",
    "mae = mean_absolute_error(y_test, y_pred)\n",
    "mse = mean_squared_error(y_test, y_pred)\n",
    "\n",
    "print(f\"📊 Model Evaluation:\\n - MAE: {mae}\\n - MSE: {mse}\")\n"
   ]
  },
  {
   "cell_type": "markdown",
   "metadata": {},
   "source": [
    "Prediction Model (src/inference.py)"
   ]
  },
  {
   "cell_type": "code",
   "execution_count": 3,
   "metadata": {},
   "outputs": [
    {
     "name": "stdout",
     "output_type": "stream",
     "text": [
      "✅ Model Loaded! Type: <class 'sklearn.ensemble._forest.RandomForestRegressor'>\n"
     ]
    },
    {
     "ename": "ValueError",
     "evalue": "invalid literal for int() with base 10: ''",
     "output_type": "error",
     "traceback": [
      "\u001b[1;31m---------------------------------------------------------------------------\u001b[0m",
      "\u001b[1;31mValueError\u001b[0m                                Traceback (most recent call last)",
      "Cell \u001b[1;32mIn[3], line 43\u001b[0m\n\u001b[0;32m     39\u001b[0m model \u001b[38;5;241m=\u001b[39m joblib\u001b[38;5;241m.\u001b[39mload(model_path)\n\u001b[0;32m     41\u001b[0m \u001b[38;5;28mprint\u001b[39m(\u001b[38;5;124mf\u001b[39m\u001b[38;5;124m\"\u001b[39m\u001b[38;5;124m✅ Model Loaded! Type: \u001b[39m\u001b[38;5;132;01m{\u001b[39;00m\u001b[38;5;28mtype\u001b[39m(model)\u001b[38;5;132;01m}\u001b[39;00m\u001b[38;5;124m\"\u001b[39m)  \n\u001b[1;32m---> 43\u001b[0m square_feet \u001b[38;5;241m=\u001b[39m \u001b[38;5;28;43mint\u001b[39;49m\u001b[43m(\u001b[49m\u001b[38;5;28;43minput\u001b[39;49m\u001b[43m(\u001b[49m\u001b[38;5;124;43m\"\u001b[39;49m\u001b[38;5;124;43mEnter square feet: \u001b[39;49m\u001b[38;5;124;43m\"\u001b[39;49m\u001b[43m)\u001b[49m\u001b[43m)\u001b[49m\n\u001b[0;32m     44\u001b[0m bedrooms \u001b[38;5;241m=\u001b[39m \u001b[38;5;28mint\u001b[39m(\u001b[38;5;28minput\u001b[39m(\u001b[38;5;124m\"\u001b[39m\u001b[38;5;124mEnter number of bedrooms: \u001b[39m\u001b[38;5;124m\"\u001b[39m))\n\u001b[0;32m     45\u001b[0m bathrooms \u001b[38;5;241m=\u001b[39m \u001b[38;5;28mint\u001b[39m(\u001b[38;5;28minput\u001b[39m(\u001b[38;5;124m\"\u001b[39m\u001b[38;5;124mEnter number of bathrooms: \u001b[39m\u001b[38;5;124m\"\u001b[39m))\n",
      "\u001b[1;31mValueError\u001b[0m: invalid literal for int() with base 10: ''"
     ]
    }
   ],
   "source": [
    "# import sys\n",
    "# import pickle\n",
    "# import pandas as pd\n",
    "\n",
    "# model_path = \"models/house_price_model.pkl\"\n",
    "# with open(model_path, \"rb\") as file:\n",
    "#     model = pickle.load(file)\n",
    "\n",
    "# square_feet = int(sys.argv[1])\n",
    "# bedrooms = int(sys.argv[2])\n",
    "# bathrooms = int(sys.argv[3])\n",
    "# location = sys.argv[4]\n",
    "# year_built = int(sys.argv[5])\n",
    "\n",
    "# locations = [\"Countryside\", \"Downtown\", \"Mountain\", \"Suburban\"]  \n",
    "# location_encoded = {f\"location_{loc}\": 0 for loc in locations}\n",
    "# if f\"location_{location}\" in location_encoded:\n",
    "#     location_encoded[f\"location_{location}\"] = 1 \n",
    "\n",
    "# input_data = {\n",
    "#     \"square_feet\": [square_feet],\n",
    "#     \"bedrooms\": [bedrooms],\n",
    "#     \"bathrooms\": [bathrooms],\n",
    "#     \"year_built\": [year_built],\n",
    "#     **location_encoded  \n",
    "# }\n",
    "\n",
    "# input_df = pd.DataFrame(input_data)\n",
    "\n",
    "# predicted_price = model.predict(input_df)[0]\n",
    "\n",
    "# print(f\"Predicted House Price: ${predicted_price:,.2f}\")\n",
    "\n",
    "\n",
    "import joblib\n",
    "import pandas as pd\n",
    "\n",
    "model_path = \"models/house_price_model.pkl\"\n",
    "model = joblib.load(model_path)\n",
    "\n",
    "print(f\"✅ Model Loaded! Type: {type(model)}\")  \n",
    "\n",
    "square_feet = int(input(\"Enter square feet: \"))\n",
    "bedrooms = int(input(\"Enter number of bedrooms: \"))\n",
    "bathrooms = int(input(\"Enter number of bathrooms: \"))\n",
    "location = input(\"Enter location (Countryside/Downtown/Mountain/Suburban): \")\n",
    "year_built = int(input(\"Enter year built: \"))\n",
    "\n",
    "locations = [\"Countryside\", \"Downtown\", \"Mountain\", \"Suburban\"]\n",
    "location_encoded = {f\"location_{loc}\": 0 for loc in locations}\n",
    "if f\"location_{location}\" in location_encoded:\n",
    "    location_encoded[f\"location_{location}\"] = 1\n",
    "\n",
    "input_data = {\n",
    "    \"square_feet\": [square_feet],\n",
    "    \"bedrooms\": [bedrooms],\n",
    "    \"bathrooms\": [bathrooms],\n",
    "    \"year_built\": [year_built],\n",
    "    **location_encoded  \n",
    "}\n",
    "\n",
    "input_df = pd.DataFrame(input_data)\n",
    "\n",
    "predicted_price = model.predict(input_df)[0]\n",
    "print(f\"Predicted House Price: ${predicted_price:,.2f}\")\n",
    "\n",
    "\n"
   ]
  },
  {
   "cell_type": "code",
   "execution_count": null,
   "metadata": {},
   "outputs": [],
   "source": []
  }
 ],
 "metadata": {
  "kernelspec": {
   "display_name": "env",
   "language": "python",
   "name": "python3"
  },
  "language_info": {
   "codemirror_mode": {
    "name": "ipython",
    "version": 3
   },
   "file_extension": ".py",
   "mimetype": "text/x-python",
   "name": "python",
   "nbconvert_exporter": "python",
   "pygments_lexer": "ipython3",
   "version": "3.12.9"
  }
 },
 "nbformat": 4,
 "nbformat_minor": 2
}
