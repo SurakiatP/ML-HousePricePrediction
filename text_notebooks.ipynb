{
 "cells": [
  {
   "cell_type": "markdown",
   "metadata": {},
   "source": [
    "Data Preprocessing (src/data_processing.py)"
   ]
  },
  {
   "cell_type": "code",
   "execution_count": 4,
   "metadata": {},
   "outputs": [
    {
     "name": "stdout",
     "output_type": "stream",
     "text": [
      "✅ Data processing complete!\n"
     ]
    }
   ],
   "source": [
    "import pandas as pd\n",
    "import numpy as np\n",
    "from sklearn.model_selection import train_test_split\n",
    "import os\n",
    "\n",
    "# โหลดข้อมูล\n",
    "df = pd.read_csv(\"data/raw/house_prices.csv\")\n",
    "\n",
    "# จัดการข้อมูลที่หายไป\n",
    "# เติมค่า NaN ในคอลัมน์ที่มีชนิดข้อมูลเป็นตัวเลขด้วยค่ามัธยฐาน\n",
    "numeric_columns = df.select_dtypes(include=['number']).columns  # เลือกคอลัมน์ที่เป็นตัวเลข\n",
    "\n",
    "# เติมค่า NaN ด้วยค่า median\n",
    "df[numeric_columns] = df[numeric_columns].fillna(df[numeric_columns].median())\n",
    "\n",
    "# แปลงข้อมูลให้เป็นตัวเลข\n",
    "df = pd.get_dummies(df, drop_first=True)\n",
    "\n",
    "# แยก Features & Target\n",
    "X = df.drop(columns=[\"id\",\"price\"])\n",
    "y = df[\"price\"]\n",
    "\n",
    "# แบ่งข้อมูล train/test\n",
    "X_train, X_test, y_train, y_test = train_test_split(X, y, test_size=0.2, random_state=42)\n",
    "\n",
    "# บันทึกข้อมูล\n",
    "os.makedirs(\"data/processed\", exist_ok=True)\n",
    "X_train.to_csv(\"data/processed/X_train.csv\", index=False)\n",
    "X_test.to_csv(\"data/processed/X_test.csv\", index=False)\n",
    "y_train.to_csv(\"data/processed/y_train.csv\", index=False)\n",
    "y_test.to_csv(\"data/processed/y_test.csv\", index=False)\n",
    "\n",
    "print(\"✅ Data processing complete!\")\n"
   ]
  },
  {
   "cell_type": "markdown",
   "metadata": {},
   "source": [
    "train_model (src/train_model.py)"
   ]
  },
  {
   "cell_type": "code",
   "execution_count": 5,
   "metadata": {},
   "outputs": [
    {
     "name": "stdout",
     "output_type": "stream",
     "text": [
      "✅ Model training complete!\n"
     ]
    }
   ],
   "source": [
    "import pandas as pd\n",
    "import joblib\n",
    "import yaml\n",
    "from sklearn.ensemble import RandomForestRegressor\n",
    "from sklearn.model_selection import RandomizedSearchCV\n",
    "\n",
    "# โหลด hyperparameters\n",
    "params = yaml.safe_load(open(\"params.yaml\"))[\"train\"]\n",
    "\n",
    "# โหลดข้อมูลที่ผ่านการประมวลผลแล้ว\n",
    "X_train = pd.read_csv(\"data/processed/X_train.csv\")\n",
    "y_train = pd.read_csv(\"data/processed/y_train.csv\")\n",
    "\n",
    "# สร้างโมเดล\n",
    "model = RandomForestRegressor(n_estimators=params[\"n_estimators\"], max_depth=params[\"max_depth\"], random_state=42)\n",
    "\n",
    "# เทรนโมเดล\n",
    "model.fit(X_train, y_train.values.ravel())\n",
    "\n",
    "# บันทึกโมเดล\n",
    "joblib.dump(model, \"models/house_price_model.pkl\")\n",
    "\n",
    "print(\"✅ Model training complete!\")\n"
   ]
  },
  {
   "cell_type": "markdown",
   "metadata": {},
   "source": [
    "evaluate model (src/evaluate_model.py)"
   ]
  },
  {
   "cell_type": "code",
   "execution_count": 6,
   "metadata": {},
   "outputs": [
    {
     "name": "stdout",
     "output_type": "stream",
     "text": [
      "📊 Model Evaluation:\n",
      " - MAE: 251983.3896785563\n",
      " - MSE: 84491458718.53607\n"
     ]
    }
   ],
   "source": [
    "import pandas as pd\n",
    "import joblib\n",
    "from sklearn.metrics import mean_absolute_error, mean_squared_error\n",
    "\n",
    "# โหลดข้อมูลทดสอบ\n",
    "X_test = pd.read_csv(\"data/processed/X_test.csv\")\n",
    "y_test = pd.read_csv(\"data/processed/y_test.csv\")\n",
    "\n",
    "# โหลดโมเดล\n",
    "model = joblib.load(\"models/house_price_model.pkl\")\n",
    "\n",
    "# ทำนายผล\n",
    "y_pred = model.predict(X_test)\n",
    "\n",
    "# คำนวณค่าความผิดพลาด\n",
    "mae = mean_absolute_error(y_test, y_pred)\n",
    "mse = mean_squared_error(y_test, y_pred)\n",
    "\n",
    "print(f\"📊 Model Evaluation:\\n - MAE: {mae}\\n - MSE: {mse}\")\n"
   ]
  },
  {
   "cell_type": "markdown",
   "metadata": {},
   "source": [
    "Prediction Model (src/inference.py)"
   ]
  },
  {
   "cell_type": "code",
   "execution_count": 11,
   "metadata": {},
   "outputs": [
    {
     "name": "stdout",
     "output_type": "stream",
     "text": [
      "✅ Model Loaded! Type: <class 'sklearn.ensemble._forest.RandomForestRegressor'>\n",
      "Predicted House Price: $496,417.36\n"
     ]
    }
   ],
   "source": [
    "# import sys\n",
    "# import pickle\n",
    "# import pandas as pd\n",
    "\n",
    "# # โหลดโมเดล\n",
    "# model_path = \"models/house_price_model.pkl\"\n",
    "# with open(model_path, \"rb\") as file:\n",
    "#     model = pickle.load(file)\n",
    "\n",
    "# # รับ input จาก command line\n",
    "# square_feet = int(sys.argv[1])\n",
    "# bedrooms = int(sys.argv[2])\n",
    "# bathrooms = int(sys.argv[3])\n",
    "# location = sys.argv[4]\n",
    "# year_built = int(sys.argv[5])\n",
    "\n",
    "# # One-Hot Encoding สำหรับ location\n",
    "# locations = [\"Countryside\", \"Downtown\", \"Mountain\", \"Suburban\"]  # รายชื่อ location ที่ใช้เทรน\n",
    "# location_encoded = {f\"location_{loc}\": 0 for loc in locations}\n",
    "# if f\"location_{location}\" in location_encoded:\n",
    "#     location_encoded[f\"location_{location}\"] = 1  # ใส่ 1 ที่ตรงกับ location ของ input\n",
    "\n",
    "# # สร้าง DataFrame สำหรับอินพุต\n",
    "# input_data = {\n",
    "#     \"square_feet\": [square_feet],\n",
    "#     \"bedrooms\": [bedrooms],\n",
    "#     \"bathrooms\": [bathrooms],\n",
    "#     \"year_built\": [year_built],\n",
    "#     **location_encoded  # รวมค่า One-Hot Encoding ของ location\n",
    "# }\n",
    "\n",
    "# input_df = pd.DataFrame(input_data)\n",
    "\n",
    "# # ทำ Prediction\n",
    "# predicted_price = model.predict(input_df)[0]\n",
    "\n",
    "# print(f\"Predicted House Price: ${predicted_price:,.2f}\")\n",
    "\n",
    "\n",
    "import joblib\n",
    "import pandas as pd\n",
    "\n",
    "# ✅ ใช้ joblib โหลดโมเดล\n",
    "model_path = \"models/house_price_model.pkl\"\n",
    "model = joblib.load(model_path)\n",
    "\n",
    "print(f\"✅ Model Loaded! Type: {type(model)}\")  # ตรวจสอบประเภทของโมเดล\n",
    "\n",
    "# รับค่า Input จากผู้ใช้\n",
    "square_feet = int(input(\"Enter square feet: \"))\n",
    "bedrooms = int(input(\"Enter number of bedrooms: \"))\n",
    "bathrooms = int(input(\"Enter number of bathrooms: \"))\n",
    "location = input(\"Enter location (Countryside/Downtown/Mountain/Suburban): \")\n",
    "year_built = int(input(\"Enter year built: \"))\n",
    "\n",
    "# One-Hot Encoding สำหรับ location\n",
    "locations = [\"Countryside\", \"Downtown\", \"Mountain\", \"Suburban\"]\n",
    "location_encoded = {f\"location_{loc}\": 0 for loc in locations}\n",
    "if f\"location_{location}\" in location_encoded:\n",
    "    location_encoded[f\"location_{location}\"] = 1\n",
    "\n",
    "# สร้าง DataFrame สำหรับอินพุต\n",
    "input_data = {\n",
    "    \"square_feet\": [square_feet],\n",
    "    \"bedrooms\": [bedrooms],\n",
    "    \"bathrooms\": [bathrooms],\n",
    "    \"year_built\": [year_built],\n",
    "    **location_encoded  \n",
    "}\n",
    "\n",
    "input_df = pd.DataFrame(input_data)\n",
    "\n",
    "# ✅ ทำ Prediction\n",
    "predicted_price = model.predict(input_df)[0]\n",
    "print(f\"Predicted House Price: ${predicted_price:,.2f}\")\n",
    "\n",
    "\n"
   ]
  },
  {
   "cell_type": "code",
   "execution_count": null,
   "metadata": {},
   "outputs": [],
   "source": []
  }
 ],
 "metadata": {
  "kernelspec": {
   "display_name": "env",
   "language": "python",
   "name": "python3"
  },
  "language_info": {
   "codemirror_mode": {
    "name": "ipython",
    "version": 3
   },
   "file_extension": ".py",
   "mimetype": "text/x-python",
   "name": "python",
   "nbconvert_exporter": "python",
   "pygments_lexer": "ipython3",
   "version": "3.12.9"
  }
 },
 "nbformat": 4,
 "nbformat_minor": 2
}
